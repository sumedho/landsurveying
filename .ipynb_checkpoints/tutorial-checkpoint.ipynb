{
 "cells": [
  {
   "cell_type": "markdown",
   "metadata": {},
   "source": [
    "# Python Land Surveying Library\n",
    "A python library which provides various land surveying calculations. It provides the following:\n",
    "* conversion of decimal degrees to various formats\n",
    "* classes for 2d point, 3d point and projection definition\n",
    "* functions to compute joins, radiations and reduced levels\n",
    "* various intersection routinues\n",
    "* freestation resection using least squares\n",
    "* gauss kruger to convert from latitude/longitude to projected grid system\n",
    "\n",
    "___"
   ]
  },
  {
   "cell_type": "markdown",
   "metadata": {},
   "source": [
    "### Import the library"
   ]
  },
  {
   "cell_type": "code",
   "execution_count": 1,
   "metadata": {
    "collapsed": true
   },
   "outputs": [],
   "source": [
    "import landsurvey as ls"
   ]
  },
  {
   "cell_type": "markdown",
   "metadata": {},
   "source": [
    "### Create points\n",
    "Many of the functions in the library take points as input. These are created using the various classes available. \n",
    "* Points can be either 2d or 3d(i.e. have a z-value) \n",
    "* A code or id can be associated with every point but is optional"
   ]
  },
  {
   "cell_type": "code",
   "execution_count": 2,
   "metadata": {
    "collapsed": false
   },
   "outputs": [
    {
     "name": "stdout",
     "output_type": "stream",
     "text": [
      "(10, 10)\n",
      "(20, 20, 20, 'TOE')\n"
     ]
    }
   ],
   "source": [
    "point1 = ls.Point2d(10, 10)\n",
    "point2 = ls.Point3d(20, 20, 20, \"TOE\")\n",
    "\n",
    "print(point1.x, point1.y)\n",
    "print(point2.x, point2.y, point2.z, point2.code)\n"
   ]
  },
  {
   "cell_type": "markdown",
   "metadata": {},
   "source": [
    "### Degrees conversion\n",
    "Degrees can be converted from decimal degrees to degrees, minutes, seconds and vice versa. These routines use the HP format for degrees, minutes, seconds (i.e. dd.mmss).\n",
    "\n",
    "For example:\n",
    "\n",
    "20&deg;35'45\" would be represented as 20.3545\n",
    "\n",
    "144&deg;25'29.52442\" would be represented as 144.252952442\n",
    "\n",
    "Using the first example, it can be converted as follows"
   ]
  },
  {
   "cell_type": "code",
   "execution_count": 11,
   "metadata": {
    "collapsed": false
   },
   "outputs": [
    {
     "name": "stdout",
     "output_type": "stream",
     "text": [
      "decimal degrees = 20.5958333333\n",
      "degrees, minutes, seconds = 20.3545\n"
     ]
    }
   ],
   "source": [
    "a = ls.dms2dec(20.3545)\n",
    "b = ls.dec2dms(a)\n",
    "print \"decimal degrees =\", a\n",
    "print \"degrees, minutes, seconds =\",b"
   ]
  },
  {
   "cell_type": "markdown",
   "metadata": {},
   "source": [
    "The second example is the same"
   ]
  },
  {
   "cell_type": "code",
   "execution_count": 10,
   "metadata": {
    "collapsed": false
   },
   "outputs": [
    {
     "name": "stdout",
     "output_type": "stream",
     "text": [
      "decimal degrees = 144.424867894\n",
      "degrees, minutes, seconds = 144.252952442\n"
     ]
    }
   ],
   "source": [
    "a = ls.dms2dec(144.252952442)\n",
    "b = ls.dec2dms(a)\n",
    "print \"decimal degrees =\", a\n",
    "print \"degrees, minutes, seconds =\",b"
   ]
  }
 ],
 "metadata": {
  "kernelspec": {
   "display_name": "Python 2",
   "language": "python",
   "name": "python2"
  },
  "language_info": {
   "codemirror_mode": {
    "name": "ipython",
    "version": 2
   },
   "file_extension": ".py",
   "mimetype": "text/x-python",
   "name": "python",
   "nbconvert_exporter": "python",
   "pygments_lexer": "ipython2",
   "version": "2.7.11"
  }
 },
 "nbformat": 4,
 "nbformat_minor": 0
}
